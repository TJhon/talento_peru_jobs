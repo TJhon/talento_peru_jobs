{
 "cells": [
  {
   "cell_type": "code",
   "execution_count": 9,
   "metadata": {},
   "outputs": [
    {
     "data": {
      "text/plain": [
       "[{'job_posting_url': 'https://www.gob.pe/munibagua',\n",
       "  'vacancies': 1,\n",
       "  'job_posting_number': 'D.Leg 1057 - Determinado (Necesidad Transitoria)-02',\n",
       "  'salary': 'S/. 1,800.00',\n",
       "  'start_publication_date': '07/10/2024',\n",
       "  'end_publication_date': '21/10/2024',\n",
       "  'required_experience': '-\\tEXPERIENCIA GENERAL:  01 AÑO EN EL SECTOR PÚBLICO Y/O PRIVADO EN FUNCIONES RELACIONADOS AL CARGO, DEBIDAMENTE COMPROBADOS.\\n-\\tEXPERIENCIA ESPECÍFICA: 06 MESES DE EXPERIENCIA EN EL SECTOR PÚBLICO EN ´PUESTOS SIMILARES O EQUIVALENTES.',\n",
       "  'educational_background': '-\\tTÉCNICO EN LAS CARRERAS DE ADMINISTRACIÓN, CONTABILIDAD, COMPUTACIÓN E INFORMÁTICA Y/O CARRERAS AFINES.',\n",
       "  'specialization': 'NINGUNA',\n",
       "  'required_knowledge': '-\\tCONOCIMIENTOS TÉCNICOS RESPECTO AL MANEJO DE OFIMÁTICA.',\n",
       "  'skills': '-\\tPROACTIVIDAD E INTEGRIDAD, CAPACIDAD ANALÍTICA Y ESCUCHA ACTIVA.',\n",
       "  'job_title': 'AUXILIAR DE ABASTECIMIENTO',\n",
       "  'public_institution': 'Municipalidad Provincial Bagua',\n",
       "  'unique_id': 'bc32c6b1-ca72-5f40-a293-12cbecaac233',\n",
       "  'scraping_date': '09-10-2024'},\n",
       " {'job_posting_url': 'https://www.gob.pe/munibagua',\n",
       "  'vacancies': 1,\n",
       "  'job_posting_number': 'D.Leg 1057 - Determinado (Necesidad Transitoria)-02',\n",
       "  'salary': 'S/. 3,000.00',\n",
       "  'start_publication_date': '07/10/2024',\n",
       "  'end_publication_date': '21/10/2024',\n",
       "  'required_experience': '-\\tEXPERIENCIA GENERAL:  02 AÑOS EN EL SECTOR PÚBLICO Y/O PRIVADO EN FUNCIONES RELACIONADOS CON EL SISTEMA DE MANEJO DE LOGÍSTICA, DEBIDAMENTE COMPROBADOS.\\n-\\tEXPERIENCIA ESPECÍFICA: 01 AÑO DE EXPERIENCIA EN EL SECTOR PÚBLICO EN ´PUESTOS SIMILARES O EQUIVALENTES.',\n",
       "  'educational_background': '-\\tTÍTULO PROFESIONAL, BACHILLER O TÉCNICO EN LAS CARRERAS DE ADMINISTRACIÓN, CONTABILIDAD, COMPUTACIÓN Y/O CARRERAS AFINES.',\n",
       "  'specialization': 'NINGUNA',\n",
       "  'required_knowledge': '-\\tCONOCIMIENTOS EN PROCESO DE COTIZACIÓN DE PRECIOS DE BIENES O SERVICIOS QUE SE NECESITAN EN LOS GOBIERNOS LOCALES.',\n",
       "  'skills': '-\\tPROACTIVIDAD E INTEGRIDAD, CAPACIDAD ANALÍTICA Y ESCUCHA ACTIVA, BUENA REDACCIÓN.',\n",
       "  'job_title': 'COTIZADOR',\n",
       "  'public_institution': 'Municipalidad Provincial Bagua',\n",
       "  'unique_id': 'b6910980-d6db-50d5-af61-0374ceaa79cf',\n",
       "  'scraping_date': '09-10-2024'}]"
      ]
     },
     "execution_count": 9,
     "metadata": {},
     "output_type": "execute_result"
    }
   ],
   "source": [
    "import pandas as pd\n",
    "pd.read_csv(\"./data/all/09-10-2024.csv\").head(2).to_dict('records')\n",
    "# .rename(columns={\n",
    "#     'url_convocatoria': 'url_postulation',\n",
    "#     'Cantidad De Vacantes:': 'number_of_vacancies',\n",
    "#     'Número De Convocatoria:': 'call_number',\n",
    "#     'Remuneración:': 'remuneration',\n",
    "#     'Fecha Inicio De Publicación:': 'publication_start_date',\n",
    "#     'Fecha Fin De Publicación:': 'publication_end_date',\n",
    "#     'Experiencia:': 'experience',\n",
    "#     'Formación Académica - Perfil:': 'academic_background_profile',\n",
    "#     'Especialización:': 'specialization',\n",
    "#     'Conocimiento:': 'knowledge',\n",
    "#     'Competencias:': 'competencies',\n",
    "#     'position': 'position',\n",
    "#     'institution': 'institution',\n",
    "#     'uuid': 'uuid',\n",
    "#     'day_scrapper': 'day_scraper'\n",
    "# })"
   ]
  },
  {
   "cell_type": "code",
   "execution_count": 14,
   "metadata": {},
   "outputs": [
    {
     "name": "stdout",
     "output_type": "stream",
     "text": [
      "LIMA\n",
      "\t\t\t\t\t\t\t\t\t\t\t\t\t\t- CHANCAY\n",
      "CUSCO\n",
      "\t\t\t\t\t\t\t\t\t\t\t\t\t\t- PICHARI\n",
      "ANCASH\n",
      "\t\t\t\t\t\t\t\t\t\t\t\t\t\t- MORO\n",
      "ANCASH\n",
      "\t\t\t\t\t\t\t\t\t\t\t\t\t\t- NUEVO CHIMBOTE\n",
      "APURIMAC\n",
      "\t\t\t\t\t\t\t\t\t\t\t\t\t\t- ABANCAY\n",
      "PASCO\n",
      "\t\t\t\t\t\t\t\t\t\t\t\t\t\t- PAUCARTAMBO\n",
      "PASCO\n",
      "\t\t\t\t\t\t\t\t\t\t\t\t\t\t- PAUCARTAMBO\n",
      "PASCO\n",
      "\t\t\t\t\t\t\t\t\t\t\t\t\t\t- PAUCARTAMBO\n",
      "PASCO\n",
      "\t\t\t\t\t\t\t\t\t\t\t\t\t\t- YANACANCHA\n",
      "PIURA\n",
      "\t\t\t\t\t\t\t\t\t\t\t\t\t\t- CHULUCANAS\n"
     ]
    },
    {
     "name": "stderr",
     "output_type": "stream",
     "text": [
      "C:\\Users\\Jhon\\AppData\\Local\\Temp\\ipykernel_9528\\44497649.py:6: DeprecationWarning: The 'text' argument to find()-type methods is deprecated. Use 'string' instead.\n",
      "  ubicacion_spans = soup.find_all('span', text='Ubicación:')\n"
     ]
    }
   ],
   "source": [
    "import requests\n",
    "from bs4 import BeautifulSoup\n",
    "\n",
    "html = requests.get(\"https://app.servir.gob.pe/DifusionOfertasExterno/faces/consultas/ofertas_laborales.xhtml\").content\n",
    "soup = BeautifulSoup(html, features='lxml')\n",
    "ubicacion_spans = soup.find_all('span', text='Ubicación:')\n",
    "\n",
    "# Para cada \"Ubicación:\", encontrar el siguiente span con la clase \"detalle-sp\" y extraer su texto\n",
    "for ubicacion_span in ubicacion_spans:\n",
    "    detalle_span = ubicacion_span.find_next('span', class_='detalle-sp')\n",
    "    if detalle_span:\n",
    "        print(detalle_span.get_text(strip=True))\n"
   ]
  },
  {
   "cell_type": "code",
   "execution_count": 13,
   "metadata": {},
   "outputs": [
    {
     "name": "stdout",
     "output_type": "stream",
     "text": [
      "LIMA - CHANCAY\n",
      "CUSCO - URUBAMBA\n"
     ]
    },
    {
     "name": "stderr",
     "output_type": "stream",
     "text": [
      "C:\\Users\\Jhon\\AppData\\Local\\Temp\\ipykernel_9528\\430019268.py:20: DeprecationWarning: The 'text' argument to find()-type methods is deprecated. Use 'string' instead.\n",
      "  ubicacion_spans = soup.find_all('span', text='Ubicación:')\n"
     ]
    }
   ],
   "source": [
    "from bs4 import BeautifulSoup\n",
    "\n",
    "# Supongamos que tienes el HTML cargado en una variable llamada `html_content`\n",
    "html_content = \"\"\"\n",
    "<div class=\"col-sm-12\">\n",
    "    <span class=\"sub-titulo\">Ubicación:</span>&nbsp; <span class=\"detalle-sp\">LIMA - CHANCAY</span>\n",
    "</div>\n",
    "<div class=\"col-sm-12\">\n",
    "    <span class=\"sub-titulo\">Ubicación:</span>&nbsp; <span class=\"detalle-sp\">CUSCO - URUBAMBA</span>\n",
    "</div>\n",
    "<div class=\"col-sm-12\">\n",
    "    <span class=\"sub-titulo\">Otra cosa:</span>&nbsp; <span class=\"detalle-sp\">ALGUN LUGAR</span>\n",
    "</div>\n",
    "\"\"\"\n",
    "\n",
    "# Crear el objeto BeautifulSoup\n",
    "soup = BeautifulSoup(html_content, 'html.parser')\n",
    "\n",
    "# Encontrar todos los elementos span que contienen el texto \"Ubicación:\"\n",
    "ubicacion_spans = soup.find_all('span', text='Ubicación:')\n",
    "\n",
    "# Para cada \"Ubicación:\", encontrar el siguiente span con la clase \"detalle-sp\" y extraer su texto\n",
    "for ubicacion_span in ubicacion_spans:\n",
    "    detalle_span = ubicacion_span.find_next('span', class_='detalle-sp')\n",
    "    if detalle_span:\n",
    "        print(detalle_span.get_text(strip=True))\n"
   ]
  }
 ],
 "metadata": {
  "kernelspec": {
   "display_name": "Python 3",
   "language": "python",
   "name": "python3"
  },
  "language_info": {
   "codemirror_mode": {
    "name": "ipython",
    "version": 3
   },
   "file_extension": ".py",
   "mimetype": "text/x-python",
   "name": "python",
   "nbconvert_exporter": "python",
   "pygments_lexer": "ipython3",
   "version": "3.10.9"
  }
 },
 "nbformat": 4,
 "nbformat_minor": 2
}
